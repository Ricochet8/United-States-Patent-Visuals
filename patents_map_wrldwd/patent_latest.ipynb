{
 "cells": [
  {
   "cell_type": "code",
   "execution_count": 3,
   "metadata": {},
   "outputs": [],
   "source": [
    "import pandas as pd\n",
    "import matplotlib.pyplot as plt\n",
    "import folium\n",
    "from folium import plugins\n",
    "from folium.plugins import MarkerCluster\n",
    "import os\n",
    "import json \n",
    "\n",
    "a=pd.read_csva=pd.read_csv('./location.tsv',sep='\\t')"
   ]
  },
  {
   "cell_type": "code",
   "execution_count": 4,
   "metadata": {},
   "outputs": [],
   "source": [
    "# Read the data from geojson\n",
    "\n",
    "json_result_string = a.to_json(\n",
    "    orient= 'records',\n",
    "    double_precision=12,\n",
    ")\n",
    "json_result =json.loads(json_result_string)"
   ]
  },
  {
   "cell_type": "code",
   "execution_count": 5,
   "metadata": {},
   "outputs": [],
   "source": [
    "geojson = {\n",
    "    'type': 'FeatureCollection',\n",
    "    'features': []\n",
    "}\n",
    "for record in json_result:\n",
    "    geojson['features'].append({\n",
    "        'type': 'Feature',\n",
    "        'geometry': {\n",
    "            'type': 'Point',\n",
    "            'coordinates': [record['longitude'], record['latitude']],\n",
    "        },\n",
    "        'properties': record,\n",
    "    })"
   ]
  },
  {
   "cell_type": "code",
   "execution_count": 6,
   "metadata": {},
   "outputs": [],
   "source": [
    "with open('location.json', 'w') as f:\n",
    "    f.write(json.dumps(geojson, indent=2))"
   ]
  },
  {
   "cell_type": "code",
   "execution_count": 7,
   "metadata": {},
   "outputs": [],
   "source": [
    "with open(\"location.json\") as datafile:\n",
    "  data = json.load(datafile)\n",
    "dataframe = pd.DataFrame(data)"
   ]
  },
  {
   "cell_type": "code",
   "execution_count": 8,
   "metadata": {},
   "outputs": [],
   "source": [
    "#pip install folium"
   ]
  },
  {
   "cell_type": "code",
   "execution_count": 9,
   "metadata": {},
   "outputs": [
    {
     "data": {
      "text/plain": [
       "Index(['id', 'city', 'state', 'country', 'latitude', 'longitude', 'county',\n",
       "       'state_fips', 'county_fips'],\n",
       "      dtype='object')"
      ]
     },
     "execution_count": 9,
     "metadata": {},
     "output_type": "execute_result"
    }
   ],
   "source": [
    "a.columns"
   ]
  },
  {
   "cell_type": "code",
   "execution_count": 10,
   "metadata": {},
   "outputs": [
    {
     "data": {
      "text/plain": [
       "<matplotlib.axes._subplots.AxesSubplot at 0x1406cfcc0>"
      ]
     },
     "execution_count": 10,
     "metadata": {},
     "output_type": "execute_result"
    },
    {
     "data": {
      "image/png": "[encoded data removed]",
      "text/plain": [
       "<Figure size 432x288 with 1 Axes>"
      ]
     },
     "metadata": {
      "needs_background": "light"
     },
     "output_type": "display_data"
    }
   ],
   "source": [
    "a['country'].value_counts()[:20].plot(kind='bar')"
   ]
  },
  {
   "cell_type": "code",
   "execution_count": 11,
   "metadata": {},
   "outputs": [
    {
     "data": {
      "text/plain": [
       "(141990, 9)"
      ]
     },
     "execution_count": 11,
     "metadata": {},
     "output_type": "execute_result"
    }
   ],
   "source": [
    "a.shape"
   ]
  },
  {
   "cell_type": "code",
   "execution_count": 12,
   "metadata": {},
   "outputs": [
    {
     "data": {
      "text/html": [
       "<div>\n",
       "<style scoped>\n",
       "    .dataframe tbody tr th:only-of-type {\n",
       "        vertical-align: middle;\n",
       "    }\n",
       "\n",
       "    .dataframe tbody tr th {\n",
       "        vertical-align: top;\n",
       "    }\n",
       "\n",
       "    .dataframe thead th {\n",
       "        text-align: right;\n",
       "    }\n",
       "</style>\n",
       "<table border=\"1\" class=\"dataframe\">\n",
       "  <thead>\n",
       "    <tr style=\"text-align: right;\">\n",
       "      <th></th>\n",
       "      <th>id</th>\n",
       "      <th>city</th>\n",
       "      <th>state</th>\n",
       "      <th>country</th>\n",
       "      <th>latitude</th>\n",
       "      <th>longitude</th>\n",
       "      <th>county</th>\n",
       "      <th>state_fips</th>\n",
       "      <th>county_fips</th>\n",
       "    </tr>\n",
       "  </thead>\n",
       "  <tbody>\n",
       "    <tr>\n",
       "      <th>0</th>\n",
       "      <td>000d9ler077x</td>\n",
       "      <td>Stevensburg</td>\n",
       "      <td>VA</td>\n",
       "      <td>US</td>\n",
       "      <td>38.4431</td>\n",
       "      <td>-77.9000</td>\n",
       "      <td>Culpeper</td>\n",
       "      <td>51.0</td>\n",
       "      <td>51047.0</td>\n",
       "    </tr>\n",
       "    <tr>\n",
       "      <th>1</th>\n",
       "      <td>0016q2zpllrt</td>\n",
       "      <td>Caorle</td>\n",
       "      <td>NaN</td>\n",
       "      <td>IT</td>\n",
       "      <td>45.5997</td>\n",
       "      <td>12.8839</td>\n",
       "      <td>NaN</td>\n",
       "      <td>NaN</td>\n",
       "      <td>NaN</td>\n",
       "    </tr>\n",
       "    <tr>\n",
       "      <th>2</th>\n",
       "      <td>0018ow09x2s2</td>\n",
       "      <td>Eumundi</td>\n",
       "      <td>NaN</td>\n",
       "      <td>AU</td>\n",
       "      <td>-26.4745</td>\n",
       "      <td>152.9510</td>\n",
       "      <td>NaN</td>\n",
       "      <td>NaN</td>\n",
       "      <td>NaN</td>\n",
       "    </tr>\n",
       "    <tr>\n",
       "      <th>3</th>\n",
       "      <td>0019b8mky5dc</td>\n",
       "      <td>Hoole</td>\n",
       "      <td>NaN</td>\n",
       "      <td>GB</td>\n",
       "      <td>53.7000</td>\n",
       "      <td>-2.8000</td>\n",
       "      <td>NaN</td>\n",
       "      <td>NaN</td>\n",
       "      <td>NaN</td>\n",
       "    </tr>\n",
       "    <tr>\n",
       "      <th>4</th>\n",
       "      <td>001hohwabp5m</td>\n",
       "      <td>Galax</td>\n",
       "      <td>VA</td>\n",
       "      <td>US</td>\n",
       "      <td>36.6611</td>\n",
       "      <td>-80.9242</td>\n",
       "      <td>Galax City</td>\n",
       "      <td>51.0</td>\n",
       "      <td>51640.0</td>\n",
       "    </tr>\n",
       "  </tbody>\n",
       "</table>\n",
       "</div>"
      ],
      "text/plain": [
       "             id         city state country  latitude  longitude      county  \\\n",
       "0  000d9ler077x  Stevensburg    VA      US   38.4431   -77.9000    Culpeper   \n",
       "1  0016q2zpllrt       Caorle   NaN      IT   45.5997    12.8839         NaN   \n",
       "2  0018ow09x2s2      Eumundi   NaN      AU  -26.4745   152.9510         NaN   \n",
       "3  0019b8mky5dc        Hoole   NaN      GB   53.7000    -2.8000         NaN   \n",
       "4  001hohwabp5m        Galax    VA      US   36.6611   -80.9242  Galax City   \n",
       "\n",
       "   state_fips  county_fips  \n",
       "0        51.0      51047.0  \n",
       "1         NaN          NaN  \n",
       "2         NaN          NaN  \n",
       "3         NaN          NaN  \n",
       "4        51.0      51640.0  "
      ]
     },
     "execution_count": 12,
     "metadata": {},
     "output_type": "execute_result"
    }
   ],
   "source": [
    "a.head()"
   ]
  },
  {
   "cell_type": "code",
   "execution_count": 13,
   "metadata": {},
   "outputs": [
    {
     "name": "stdout",
     "output_type": "stream",
     "text": [
      "-88.0542488300168\n",
      "38.993789103815445\n"
     ]
    }
   ],
   "source": [
    "print(a[a['country']=='US']['longitude'].mean())\n",
    "print(a[a['country']=='US']['latitude'].mean())"
   ]
  },
  {
   "cell_type": "markdown",
   "metadata": {},
   "source": [
    "#### Division into Three Categories by continents"
   ]
  },
  {
   "cell_type": "code",
   "execution_count": 14,
   "metadata": {},
   "outputs": [],
   "source": [
    "ASIA=a[(a['country']=='AU')|(a['country']=='CH')|(a['country']=='IN')|(a['country']=='JP')]\n",
    "\n",
    "ASIA=ASIA[(ASIA['longitude']<154) & (ASIA['longitude']>65)& (ASIA['latitude']<41) & \n",
    "          (ASIA['latitude']>-20)]\n",
    "\n",
    "\n",
    "EU=a[(a['country']=='GB') | (a['country']=='FR')|(a['country']=='DE') | (a['country']=='IT')|\n",
    "    (a['country']=='NL') | (a['country']=='AT')|(a['country']=='FI') | (a['country']=='NO')|\n",
    "     (a['country']=='RU')|(a['country']=='TR')]\n",
    "\n",
    "EU=EU[(EU['longitude']<70) & (EU['longitude']>-23)& (EU['latitude']<69) & \n",
    "          (EU['latitude']>28)]\n",
    "\n",
    "\n",
    "\n",
    "AMERICA=a[(a['country']=='US') | (a['country']=='CA')|(a['country']=='BR')]\n",
    "AMERICA=AMERICA[(AMERICA['longitude']<-54) & (AMERICA['longitude']>-130)& (AMERICA['latitude']<69) & \n",
    "          (AMERICA['latitude']>-44)]"
   ]
  },
  {
   "cell_type": "code",
   "execution_count": 15,
   "metadata": {},
   "outputs": [
    {
     "data": {
      "text/plain": [
       "65.0821"
      ]
     },
     "execution_count": 15,
     "metadata": {},
     "output_type": "execute_result"
    }
   ],
   "source": [
    "ASIA[(ASIA['longitude']<154)&(ASIA['longitude']>65)]['longitude'].min()"
   ]
  },
  {
   "cell_type": "code",
   "execution_count": 16,
   "metadata": {},
   "outputs": [
    {
     "data": {
      "text/plain": [
       "count    6508.000000\n",
       "mean      119.972875\n",
       "std        26.009169\n",
       "min        65.082100\n",
       "25%        88.257375\n",
       "50%       134.917000\n",
       "75%       139.248500\n",
       "max       152.833000\n",
       "Name: longitude, dtype: float64"
      ]
     },
     "execution_count": 16,
     "metadata": {},
     "output_type": "execute_result"
    }
   ],
   "source": [
    "ASIA['longitude'].describe()"
   ]
  },
  {
   "cell_type": "code",
   "execution_count": 17,
   "metadata": {},
   "outputs": [
    {
     "data": {
      "text/html": [
       "<div>\n",
       "<style scoped>\n",
       "    .dataframe tbody tr th:only-of-type {\n",
       "        vertical-align: middle;\n",
       "    }\n",
       "\n",
       "    .dataframe tbody tr th {\n",
       "        vertical-align: top;\n",
       "    }\n",
       "\n",
       "    .dataframe thead th {\n",
       "        text-align: right;\n",
       "    }\n",
       "</style>\n",
       "<table border=\"1\" class=\"dataframe\">\n",
       "  <thead>\n",
       "    <tr style=\"text-align: right;\">\n",
       "      <th></th>\n",
       "      <th>id</th>\n",
       "      <th>city</th>\n",
       "      <th>state</th>\n",
       "      <th>country</th>\n",
       "      <th>latitude</th>\n",
       "      <th>longitude</th>\n",
       "      <th>county</th>\n",
       "      <th>state_fips</th>\n",
       "      <th>county_fips</th>\n",
       "    </tr>\n",
       "  </thead>\n",
       "  <tbody>\n",
       "    <tr>\n",
       "      <th>47</th>\n",
       "      <td>00hqtv1mostf</td>\n",
       "      <td>Sanpada</td>\n",
       "      <td>NaN</td>\n",
       "      <td>IN</td>\n",
       "      <td>19.0606</td>\n",
       "      <td>73.0140</td>\n",
       "      <td>NaN</td>\n",
       "      <td>NaN</td>\n",
       "      <td>NaN</td>\n",
       "    </tr>\n",
       "    <tr>\n",
       "      <th>102</th>\n",
       "      <td>00yue4psdrkp</td>\n",
       "      <td>Hanishina-gun</td>\n",
       "      <td>NaN</td>\n",
       "      <td>JP</td>\n",
       "      <td>36.4575</td>\n",
       "      <td>138.1900</td>\n",
       "      <td>NaN</td>\n",
       "      <td>NaN</td>\n",
       "      <td>NaN</td>\n",
       "    </tr>\n",
       "    <tr>\n",
       "      <th>148</th>\n",
       "      <td>01j0o89xljb6</td>\n",
       "      <td>Rajouri Garden</td>\n",
       "      <td>NaN</td>\n",
       "      <td>IN</td>\n",
       "      <td>28.6415</td>\n",
       "      <td>77.1209</td>\n",
       "      <td>NaN</td>\n",
       "      <td>NaN</td>\n",
       "      <td>NaN</td>\n",
       "    </tr>\n",
       "    <tr>\n",
       "      <th>151</th>\n",
       "      <td>01j90wjynwfi</td>\n",
       "      <td>Senriyamahigashi</td>\n",
       "      <td>NaN</td>\n",
       "      <td>JP</td>\n",
       "      <td>34.7737</td>\n",
       "      <td>135.5080</td>\n",
       "      <td>NaN</td>\n",
       "      <td>NaN</td>\n",
       "      <td>NaN</td>\n",
       "    </tr>\n",
       "    <tr>\n",
       "      <th>157</th>\n",
       "      <td>01l7ed0r1p5r</td>\n",
       "      <td>Tsukama</td>\n",
       "      <td>NaN</td>\n",
       "      <td>JP</td>\n",
       "      <td>36.2167</td>\n",
       "      <td>137.9830</td>\n",
       "      <td>NaN</td>\n",
       "      <td>NaN</td>\n",
       "      <td>NaN</td>\n",
       "    </tr>\n",
       "  </tbody>\n",
       "</table>\n",
       "</div>"
      ],
      "text/plain": [
       "               id              city state country  latitude  longitude county  \\\n",
       "47   00hqtv1mostf           Sanpada   NaN      IN   19.0606    73.0140    NaN   \n",
       "102  00yue4psdrkp     Hanishina-gun   NaN      JP   36.4575   138.1900    NaN   \n",
       "148  01j0o89xljb6    Rajouri Garden   NaN      IN   28.6415    77.1209    NaN   \n",
       "151  01j90wjynwfi  Senriyamahigashi   NaN      JP   34.7737   135.5080    NaN   \n",
       "157  01l7ed0r1p5r           Tsukama   NaN      JP   36.2167   137.9830    NaN   \n",
       "\n",
       "     state_fips  county_fips  \n",
       "47          NaN          NaN  \n",
       "102         NaN          NaN  \n",
       "148         NaN          NaN  \n",
       "151         NaN          NaN  \n",
       "157         NaN          NaN  "
      ]
     },
     "execution_count": 17,
     "metadata": {},
     "output_type": "execute_result"
    }
   ],
   "source": [
    "ASIA.head()"
   ]
  },
  {
   "cell_type": "code",
   "execution_count": 18,
   "metadata": {},
   "outputs": [
    {
     "data": {
      "text/plain": [
       "<matplotlib.axes._subplots.AxesSubplot at 0x13a3f4a20>"
      ]
     },
     "execution_count": 18,
     "metadata": {},
     "output_type": "execute_result"
    },
    {
     "data": {
      "image/png": "[encoded data removed]",
      "text/plain": [
       "<Figure size 432x288 with 1 Axes>"
      ]
     },
     "metadata": {
      "needs_background": "light"
     },
     "output_type": "display_data"
    }
   ],
   "source": [
    "AMERICA['country'].value_counts().plot(kind='bar',color=['y','b','g','k'])"
   ]
  },
  {
   "cell_type": "code",
   "execution_count": 19,
   "metadata": {},
   "outputs": [
    {
     "data": {
      "text/plain": [
       "<matplotlib.axes._subplots.AxesSubplot at 0x133bbea58>"
      ]
     },
     "execution_count": 19,
     "metadata": {},
     "output_type": "execute_result"
    },
    {
     "data": {
      "image/png": "[encoded data removed]",
      "text/plain": [
       "<Figure size 432x288 with 1 Axes>"
      ]
     },
     "metadata": {
      "needs_background": "light"
     },
     "output_type": "display_data"
    }
   ],
   "source": [
    "EU['country'].value_counts().plot(kind='bar',color=['r','g','b','y','k'])"
   ]
  },
  {
   "cell_type": "code",
   "execution_count": 20,
   "metadata": {},
   "outputs": [
    {
     "data": {
      "text/plain": [
       "<matplotlib.axes._subplots.AxesSubplot at 0x133c9c908>"
      ]
     },
     "execution_count": 20,
     "metadata": {},
     "output_type": "execute_result"
    },
    {
     "data": {
      "image/png": "[encoded data removed]",
      "text/plain": [
       "<Figure size 720x432 with 1 Axes>"
      ]
     },
     "metadata": {
      "needs_background": "light"
     },
     "output_type": "display_data"
    }
   ],
   "source": [
    "ASIA['country'].value_counts().plot(kind='bar',color=['b','g','k','y'],figsize=(10,6))"
   ]
  },
  {
   "cell_type": "code",
   "execution_count": 21,
   "metadata": {},
   "outputs": [
    {
     "data": {
      "text/plain": [
       "260"
      ]
     },
     "execution_count": 21,
     "metadata": {},
     "output_type": "execute_result"
    }
   ],
   "source": [
    "len(a['country'].value_counts())"
   ]
  },
  {
   "cell_type": "code",
   "execution_count": 22,
   "metadata": {},
   "outputs": [
    {
     "data": {
      "text/plain": [
       "id                  0\n",
       "city              125\n",
       "state          103239\n",
       "country             0\n",
       "latitude            0\n",
       "longitude           0\n",
       "county         103155\n",
       "state_fips     103154\n",
       "county_fips    103155\n",
       "dtype: int64"
      ]
     },
     "execution_count": 22,
     "metadata": {},
     "output_type": "execute_result"
    }
   ],
   "source": [
    "a.isnull().sum()"
   ]
  },
  {
   "cell_type": "code",
   "execution_count": 23,
   "metadata": {},
   "outputs": [],
   "source": [
    "# from folium import plugins\n",
    "# from folium.plugins import MarkerCluster\n",
    "\n",
    "m = folium.Map(location=[0, 0], zoom_start=3) #create map from 0,0 locs\n",
    "\n",
    "mcg = folium.plugins.MarkerCluster(control=False)\n",
    "m.add_child(mcg)\n",
    "\n",
    "g1 = folium.plugins.FeatureGroupSubGroup(mcg, 'ASIA') \n",
    "m.add_child(g1)\n",
    "\n",
    "g2 = folium.plugins.FeatureGroupSubGroup(mcg, 'EU') \n",
    "m.add_child(g2)\n",
    "\n",
    "g3 = folium.plugins.FeatureGroupSubGroup(mcg, 'AMERICA')\n",
    "m.add_child(g3)\n",
    "\n",
    "#iteration through ASIAN countries owning patents\n",
    "for i in range(0,len(ASIA)):\n",
    "    folium.Marker([ASIA.iloc[i]['latitude'], ASIA.iloc[i]['longitude']], \n",
    "                  popup=str('country:\\n')+str(ASIA.iloc[i]['country'])).add_to(g1) \n",
    "    \n",
    "#iteration through EU countries owning patents\n",
    "\n",
    "for i in range(0,len(EU)):\n",
    "    folium.Marker([EU.iloc[i]['latitude'], EU.iloc[i]['longitude']], \n",
    "                  popup=str('country:\\n')+str(EU.iloc[i]['country'])).add_to(g2)\n",
    "    \n",
    "#iteration through American countries owning patents\n",
    "for i in range(0,len(AMERICA)):\n",
    "    folium.Marker([AMERICA.iloc[i]['latitude'], AMERICA.iloc[i]['longitude']], \n",
    "                  popup=str('country:\\n')+str(AMERICA.iloc[i]['country'])).add_to(g3)\n",
    "    \n",
    "\n",
    "folium.LayerControl(collapsed=False).add_to(m)\n",
    "m.save(os.path.join('patentmap.html'))"
   ]
  },
  {
   "cell_type": "code",
   "execution_count": 38,
   "metadata": {},
   "outputs": [
    {
     "data": {
      "text/html": [
       "<div>\n",
       "<style scoped>\n",
       "    .dataframe tbody tr th:only-of-type {\n",
       "        vertical-align: middle;\n",
       "    }\n",
       "\n",
       "    .dataframe tbody tr th {\n",
       "        vertical-align: top;\n",
       "    }\n",
       "\n",
       "    .dataframe thead th {\n",
       "        text-align: right;\n",
       "    }\n",
       "</style>\n",
       "<table border=\"1\" class=\"dataframe\">\n",
       "  <thead>\n",
       "    <tr style=\"text-align: right;\">\n",
       "      <th></th>\n",
       "      <th>Continents</th>\n",
       "      <th>Number of patents</th>\n",
       "    </tr>\n",
       "  </thead>\n",
       "  <tbody>\n",
       "    <tr>\n",
       "      <th>0</th>\n",
       "      <td>EU</td>\n",
       "      <td>52253</td>\n",
       "    </tr>\n",
       "    <tr>\n",
       "      <th>1</th>\n",
       "      <td>ASIA</td>\n",
       "      <td>6508</td>\n",
       "    </tr>\n",
       "    <tr>\n",
       "      <th>2</th>\n",
       "      <td>AMERICA</td>\n",
       "      <td>42109</td>\n",
       "    </tr>\n",
       "  </tbody>\n",
       "</table>\n",
       "</div>"
      ],
      "text/plain": [
       "  Continents  Number of patents\n",
       "0         EU              52253\n",
       "1       ASIA               6508\n",
       "2    AMERICA              42109"
      ]
     },
     "execution_count": 38,
     "metadata": {},
     "output_type": "execute_result"
    }
   ],
   "source": [
    "\n",
    "#creat DF from Three continents\n",
    "\n",
    "piedf=pd.DataFrame({'EU':[len(EU)],'ASIA':[len(ASIA)],'AMERICA':[len(AMERICA)]}).T\n",
    "piedf['Continents']=piedf.index # create index\n",
    "piedf=piedf.reset_index()\n",
    "piedf['Number of patents']=piedf[0] #add new columns\n",
    "del piedf['index']  #drop unwanted columns\n",
    "del piedf[0]\n",
    "piedf"
   ]
  },
  {
   "cell_type": "code",
   "execution_count": 39,
   "metadata": {},
   "outputs": [
    {
     "data": {
      "image/png": "[encoded data removed]",
      "text/plain": [
       "<Figure size 432x576 with 1 Axes>"
      ]
     },
     "metadata": {},
     "output_type": "display_data"
    }
   ],
   "source": [
    "# Create a pie chart\n",
    "fig = plt.figure(figsize=(6,8))\n",
    "plt.pie(\n",
    "    # using data total)arrests\n",
    "    piedf['Number of patents'],\n",
    "    # with the labels being officer names\n",
    "    labels=piedf['Continents'],\n",
    "    # with no shadows\n",
    "    shadow=False,\n",
    "    # with one slide exploded out\n",
    "    explode=(0.1, 0, 0.1),\n",
    "    # with the start angle at 90%\n",
    "    startangle=90,\n",
    "    # with the percent listed as a fraction\n",
    "    autopct='%1.1f%%',\n",
    "\n",
    "    )\n",
    "\n",
    "# View the plot drop above\n",
    "plt.axis('equal')\n",
    "\n",
    "# View the plot\n",
    "plt.tight_layout()\n",
    "plt.show()\n",
    "#plt.savefig(\"proje templates/image1.png\")"
   ]
  },
  {
   "cell_type": "code",
   "execution_count": 42,
   "metadata": {},
   "outputs": [
    {
     "data": {
      "image/png": "[encoded data removed]",
      "text/plain": [
       "<Figure size 432x576 with 1 Axes>"
      ]
     },
     "metadata": {},
     "output_type": "display_data"
    },
    {
     "ename": "NameError",
     "evalue": "name 'Image' is not defined",
     "output_type": "error",
     "traceback": [
      "\u001b[0;31m---------------------------------------------------------------------------\u001b[0m",
      "\u001b[0;31mNameError\u001b[0m                                 Traceback (most recent call last)",
      "\u001b[0;32m<ipython-input-42-3fbb9ec071fc>\u001b[0m in \u001b[0;36m<module>\u001b[0;34m\u001b[0m\n\u001b[1;32m     25\u001b[0m \u001b[0mplt\u001b[0m\u001b[0;34m.\u001b[0m\u001b[0mshow\u001b[0m\u001b[0;34m(\u001b[0m\u001b[0;34m)\u001b[0m\u001b[0;34m\u001b[0m\u001b[0;34m\u001b[0m\u001b[0m\n\u001b[1;32m     26\u001b[0m \u001b[0mplt\u001b[0m\u001b[0;34m.\u001b[0m\u001b[0msavefig\u001b[0m\u001b[0;34m(\u001b[0m\u001b[0;34m'image2.png'\u001b[0m\u001b[0;34m)\u001b[0m\u001b[0;34m\u001b[0m\u001b[0;34m\u001b[0m\u001b[0m\n\u001b[0;32m---> 27\u001b[0;31m \u001b[0mImage\u001b[0m\u001b[0;34m.\u001b[0m\u001b[0mopen\u001b[0m\u001b[0;34m(\u001b[0m\u001b[0;34m'image2.png'\u001b[0m\u001b[0;34m)\u001b[0m\u001b[0;34m.\u001b[0m\u001b[0msave\u001b[0m\u001b[0;34m(\u001b[0m\u001b[0;34m'image2.jpg'\u001b[0m\u001b[0;34m,\u001b[0m\u001b[0;34m'JPEG'\u001b[0m\u001b[0;34m)\u001b[0m\u001b[0;34m\u001b[0m\u001b[0;34m\u001b[0m\u001b[0m\n\u001b[0m",
      "\u001b[0;31mNameError\u001b[0m: name 'Image' is not defined"
     ]
    },
    {
     "data": {
      "text/plain": [
       "<Figure size 432x288 with 0 Axes>"
      ]
     },
     "metadata": {},
     "output_type": "display_data"
    }
   ],
   "source": [
    "# Pie chart\n",
    "fig = plt.figure(figsize=(6,8))\n",
    "colors = ['yellow','green','red']\n",
    "#explosion\n",
    "explode = (0.05,0.05,0.05)\n",
    " \n",
    "plt.pie(\n",
    "    piedf['Number of patents'],\n",
    "     \n",
    "    colors = colors, \n",
    "    labels=piedf['Continents'], \n",
    "    autopct='%1.1f%%', \n",
    "    startangle=90, \n",
    "    pctdistance=0.85, \n",
    "    explode = explode)\n",
    "\n",
    "#draw circle\n",
    "centre_circle = plt.Circle((0,0),0.70,fc='white')\n",
    "fig = plt.gcf()\n",
    "fig.gca().add_artist(centre_circle)\n",
    "\n",
    "# Equal aspect ratio ensures that pie is drawn as a circle\n",
    " \n",
    "plt.tight_layout()\n",
    "plt.show()\n",
    "plt.savefig('image2.png')\n",
    "Image.open('image2.png').save('image2.jpg','JPEG')"
   ]
  },
  {
   "cell_type": "code",
   "execution_count": null,
   "metadata": {},
   "outputs": [],
   "source": []
  },
  {
   "cell_type": "code",
   "execution_count": null,
   "metadata": {},
   "outputs": [],
   "source": []
  }
 ],
 "metadata": {
  "kernelspec": {
   "display_name": "Python 3",
   "language": "python",
   "name": "python3"
  },
  "language_info": {
   "codemirror_mode": {
    "name": "ipython",
    "version": 3
   },
   "file_extension": ".py",
   "mimetype": "text/x-python",
   "name": "python",
   "nbconvert_exporter": "python",
   "pygments_lexer": "ipython3",
   "version": "3.7.3"
  }
 },
 "nbformat": 4,
 "nbformat_minor": 2
}
